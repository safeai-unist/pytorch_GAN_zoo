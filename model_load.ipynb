{
 "cells": [
  {
   "cell_type": "code",
   "execution_count": null,
   "metadata": {},
   "outputs": [],
   "source": [
    "# import mindspore\n",
    "# param_dict = mindspore.load_checkpoint(\"/app/pytorch_GAN_zoo/arbitrary_image_stylization/checkpoint/ais.ckpt\")"
   ]
  },
  {
   "cell_type": "code",
   "execution_count": 3,
   "metadata": {},
   "outputs": [],
   "source": [
    "import torch\n",
    "import torch.nn as nn\n",
    "\n",
    "class SimpleCNN(nn.Module):\n",
    "    def __init__(self):\n",
    "        super(SimpleCNN, self).__init__()\n",
    "        self.conv1 = nn.Conv2d(in_channels=3, out_channels=16, kernel_size=3, padding=1)\n",
    "        self.relu1 = nn.ReLU()\n",
    "        self.conv2 = nn.Conv2d(in_channels=16, out_channels=32, kernel_size=3, padding=1)\n",
    "        self.relu2 = nn.ReLU()\n",
    "        self.maxpool = nn.MaxPool2d(kernel_size=2, stride=2)\n",
    "        \n",
    "    def forward(self, x):\n",
    "        x = self.relu1(self.conv1(x))\n",
    "        x = self.maxpool(x)\n",
    "        x = self.relu2(self.conv2(x))\n",
    "        x = self.maxpool(x)\n",
    "        \n",
    "        return x\n",
    "new_model = SimpleCNN()\n",
    "parameters = {}\n",
    "\n",
    "\n",
    "with open('model_parameter.txt', 'r') as f:\n",
    "    current_section = None\n",
    "    current_parameters = {}\n",
    "    for line in f:\n",
    "        line = line.strip()\n",
    "        if \"optimizer.network\" in line or \"network.network\" in line:\n",
    "            if current_section is not None:\n",
    "                parameters[current_section] = current_parameters\n",
    "            current_section = line\n",
    "            current_parameters = {}\n",
    "        else:\n",
    "            if line:\n",
    "                key, value = line.split(':')\n",
    "                current_parameters[key.strip()] = value.strip()\n",
    "    if current_section is not None:\n",
    "        parameters[current_section] = current_parameters\n",
    "checkpoint_params = parameters\n",
    "\n",
    "for name, param in new_model.named_parameters():\n",
    "    if name in checkpoint_params:\n",
    "        param.data = checkpoint_params[name]\n",
    "\n",
    "torch.save(new_model.state_dict(), 'new_model_checkpoint.pt')\n"
   ]
  },
  {
   "cell_type": "code",
   "execution_count": 4,
   "metadata": {},
   "outputs": [
    {
     "name": "stdout",
     "output_type": "stream",
     "text": [
      "SimpleCNN(\n",
      "  (conv1): Conv2d(3, 16, kernel_size=(3, 3), stride=(1, 1), padding=(1, 1))\n",
      "  (relu1): ReLU()\n",
      "  (conv2): Conv2d(16, 32, kernel_size=(3, 3), stride=(1, 1), padding=(1, 1))\n",
      "  (relu2): ReLU()\n",
      "  (maxpool): MaxPool2d(kernel_size=2, stride=2, padding=0, dilation=1, ceil_mode=False)\n",
      ")\n"
     ]
    }
   ],
   "source": [
    "model = SimpleCNN()\n",
    "ckpt = torch.load('new_model_checkpoint.pt')\n",
    "model.load_state_dict(ckpt)\n",
    "print(model)"
   ]
  },
  {
   "cell_type": "code",
   "execution_count": 5,
   "metadata": {},
   "outputs": [
    {
     "name": "stdout",
     "output_type": "stream",
     "text": [
      "<generator object Module.parameters at 0x7f802e9366c0>\n"
     ]
    }
   ],
   "source": [
    "print(model.parameters())"
   ]
  }
 ],
 "metadata": {
  "kernelspec": {
   "display_name": "Python 3 (ipykernel)",
   "language": "python",
   "name": "python3"
  },
  "language_info": {
   "codemirror_mode": {
    "name": "ipython",
    "version": 3
   },
   "file_extension": ".py",
   "mimetype": "text/x-python",
   "name": "python",
   "nbconvert_exporter": "python",
   "pygments_lexer": "ipython3",
   "version": "3.10.12"
  }
 },
 "nbformat": 4,
 "nbformat_minor": 4
}
